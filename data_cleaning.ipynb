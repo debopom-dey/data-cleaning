{
 "cells": [
  {
   "cell_type": "code",
   "execution_count": 2,
   "metadata": {},
   "outputs": [],
   "source": [
    "import pandas as pd\n"
   ]
  },
  {
   "cell_type": "code",
   "execution_count": 3,
   "metadata": {},
   "outputs": [
    {
     "data": {
      "text/html": [
       "<div>\n",
       "<style scoped>\n",
       "    .dataframe tbody tr th:only-of-type {\n",
       "        vertical-align: middle;\n",
       "    }\n",
       "\n",
       "    .dataframe tbody tr th {\n",
       "        vertical-align: top;\n",
       "    }\n",
       "\n",
       "    .dataframe thead th {\n",
       "        text-align: right;\n",
       "    }\n",
       "</style>\n",
       "<table border=\"1\" class=\"dataframe\">\n",
       "  <thead>\n",
       "    <tr style=\"text-align: right;\">\n",
       "      <th></th>\n",
       "      <th>Unnamed: 0</th>\n",
       "      <th>Name</th>\n",
       "      <th>Distance</th>\n",
       "      <th>Mass</th>\n",
       "      <th>Radius</th>\n",
       "      <th>Unnamed: 5</th>\n",
       "      <th>Star_name</th>\n",
       "      <th>Distance.1</th>\n",
       "      <th>Mass.1</th>\n",
       "      <th>Radius.1</th>\n",
       "    </tr>\n",
       "  </thead>\n",
       "  <tbody>\n",
       "    <tr>\n",
       "      <th>0</th>\n",
       "      <td>0</td>\n",
       "      <td>Sun</td>\n",
       "      <td>0.000015813</td>\n",
       "      <td>1</td>\n",
       "      <td>1</td>\n",
       "      <td>0</td>\n",
       "      <td>SDSS J000013.54+255418.6 [de]</td>\n",
       "      <td>46.1</td>\n",
       "      <td>0.045820</td>\n",
       "      <td>0.101735</td>\n",
       "    </tr>\n",
       "    <tr>\n",
       "      <th>1</th>\n",
       "      <td>1</td>\n",
       "      <td>Sirius</td>\n",
       "      <td>0008.6</td>\n",
       "      <td>2.1</td>\n",
       "      <td>1.71</td>\n",
       "      <td>2</td>\n",
       "      <td>2MASS J00040288-6410358</td>\n",
       "      <td>192.0</td>\n",
       "      <td>0.018137</td>\n",
       "      <td>0.167504</td>\n",
       "    </tr>\n",
       "    <tr>\n",
       "      <th>2</th>\n",
       "      <td>2</td>\n",
       "      <td>Canopus</td>\n",
       "      <td>0310</td>\n",
       "      <td>15</td>\n",
       "      <td>71</td>\n",
       "      <td>4</td>\n",
       "      <td>2MASS J00242463-0158201</td>\n",
       "      <td>37.7</td>\n",
       "      <td>0.075412</td>\n",
       "      <td>0.112012</td>\n",
       "    </tr>\n",
       "    <tr>\n",
       "      <th>3</th>\n",
       "      <td>3</td>\n",
       "      <td>Alpha Centauri</td>\n",
       "      <td>0004.4</td>\n",
       "      <td>1.1</td>\n",
       "      <td>1.2</td>\n",
       "      <td>6</td>\n",
       "      <td>2MASS J00274197+0503417</td>\n",
       "      <td>236.0</td>\n",
       "      <td>0.029592</td>\n",
       "      <td>0.147979</td>\n",
       "    </tr>\n",
       "    <tr>\n",
       "      <th>4</th>\n",
       "      <td>4</td>\n",
       "      <td>Arcturus</td>\n",
       "      <td>0037</td>\n",
       "      <td>1.1</td>\n",
       "      <td>26</td>\n",
       "      <td>8</td>\n",
       "      <td>2MASSW J0030300-145033</td>\n",
       "      <td>87.2</td>\n",
       "      <td>0.051548</td>\n",
       "      <td>0.100708</td>\n",
       "    </tr>\n",
       "  </tbody>\n",
       "</table>\n",
       "</div>"
      ],
      "text/plain": [
       "   Unnamed: 0            Name     Distance Mass Radius  Unnamed: 5  \\\n",
       "0           0             Sun  0.000015813    1      1           0   \n",
       "1           1          Sirius       0008.6  2.1   1.71           2   \n",
       "2           2         Canopus         0310   15     71           4   \n",
       "3           3  Alpha Centauri       0004.4  1.1    1.2           6   \n",
       "4           4        Arcturus         0037  1.1     26           8   \n",
       "\n",
       "                       Star_name  Distance.1    Mass.1  Radius.1  \n",
       "0  SDSS J000013.54+255418.6 [de]        46.1  0.045820  0.101735  \n",
       "1        2MASS J00040288-6410358       192.0  0.018137  0.167504  \n",
       "2        2MASS J00242463-0158201        37.7  0.075412  0.112012  \n",
       "3        2MASS J00274197+0503417       236.0  0.029592  0.147979  \n",
       "4         2MASSW J0030300-145033        87.2  0.051548  0.100708  "
      ]
     },
     "execution_count": 3,
     "metadata": {},
     "output_type": "execute_result"
    }
   ],
   "source": [
    "df=pd.read_csv(\"total_stars.csv\")\n",
    "df.head()"
   ]
  },
  {
   "cell_type": "code",
   "execution_count": 4,
   "metadata": {},
   "outputs": [
    {
     "data": {
      "text/plain": [
       "Index(['Unnamed: 0', 'Name', 'Distance', 'Mass', 'Radius', 'Unnamed: 5',\n",
       "       'Star_name', 'Distance.1', 'Mass.1', 'Radius.1'],\n",
       "      dtype='object')"
      ]
     },
     "execution_count": 4,
     "metadata": {},
     "output_type": "execute_result"
    }
   ],
   "source": [
    "df.columns"
   ]
  },
  {
   "cell_type": "code",
   "execution_count": 5,
   "metadata": {},
   "outputs": [
    {
     "data": {
      "text/plain": [
       "Index(['Name', 'Distance', 'Mass', 'Radius', 'Star_name', 'Distance.1',\n",
       "       'Mass.1', 'Radius.1'],\n",
       "      dtype='object')"
      ]
     },
     "execution_count": 5,
     "metadata": {},
     "output_type": "execute_result"
    }
   ],
   "source": [
    "df.drop(['Unnamed: 0','Unnamed: 5'],axis=1,inplace=True)\n",
    "df.columns"
   ]
  },
  {
   "cell_type": "code",
   "execution_count": 6,
   "metadata": {},
   "outputs": [
    {
     "data": {
      "text/html": [
       "<div>\n",
       "<style scoped>\n",
       "    .dataframe tbody tr th:only-of-type {\n",
       "        vertical-align: middle;\n",
       "    }\n",
       "\n",
       "    .dataframe tbody tr th {\n",
       "        vertical-align: top;\n",
       "    }\n",
       "\n",
       "    .dataframe thead th {\n",
       "        text-align: right;\n",
       "    }\n",
       "</style>\n",
       "<table border=\"1\" class=\"dataframe\">\n",
       "  <thead>\n",
       "    <tr style=\"text-align: right;\">\n",
       "      <th></th>\n",
       "      <th>Name</th>\n",
       "      <th>Distance</th>\n",
       "      <th>Mass</th>\n",
       "      <th>Radius</th>\n",
       "      <th>Star_name</th>\n",
       "      <th>Distance.1</th>\n",
       "      <th>Mass.1</th>\n",
       "      <th>Radius.1</th>\n",
       "    </tr>\n",
       "  </thead>\n",
       "  <tbody>\n",
       "    <tr>\n",
       "      <th>0</th>\n",
       "      <td>Sun</td>\n",
       "      <td>0.000015813</td>\n",
       "      <td>1</td>\n",
       "      <td>1</td>\n",
       "      <td>SDSS J000013.54+255418.6 [de]</td>\n",
       "      <td>46.1</td>\n",
       "      <td>0.045820</td>\n",
       "      <td>0.101735</td>\n",
       "    </tr>\n",
       "    <tr>\n",
       "      <th>1</th>\n",
       "      <td>Sirius</td>\n",
       "      <td>0008.6</td>\n",
       "      <td>2.1</td>\n",
       "      <td>1.71</td>\n",
       "      <td>2MASS J00040288-6410358</td>\n",
       "      <td>192.0</td>\n",
       "      <td>0.018137</td>\n",
       "      <td>0.167504</td>\n",
       "    </tr>\n",
       "    <tr>\n",
       "      <th>2</th>\n",
       "      <td>Canopus</td>\n",
       "      <td>0310</td>\n",
       "      <td>15</td>\n",
       "      <td>71</td>\n",
       "      <td>2MASS J00242463-0158201</td>\n",
       "      <td>37.7</td>\n",
       "      <td>0.075412</td>\n",
       "      <td>0.112012</td>\n",
       "    </tr>\n",
       "    <tr>\n",
       "      <th>3</th>\n",
       "      <td>Alpha Centauri</td>\n",
       "      <td>0004.4</td>\n",
       "      <td>1.1</td>\n",
       "      <td>1.2</td>\n",
       "      <td>2MASS J00274197+0503417</td>\n",
       "      <td>236.0</td>\n",
       "      <td>0.029592</td>\n",
       "      <td>0.147979</td>\n",
       "    </tr>\n",
       "    <tr>\n",
       "      <th>4</th>\n",
       "      <td>Arcturus</td>\n",
       "      <td>0037</td>\n",
       "      <td>1.1</td>\n",
       "      <td>26</td>\n",
       "      <td>2MASSW J0030300-145033</td>\n",
       "      <td>87.2</td>\n",
       "      <td>0.051548</td>\n",
       "      <td>0.100708</td>\n",
       "    </tr>\n",
       "  </tbody>\n",
       "</table>\n",
       "</div>"
      ],
      "text/plain": [
       "             Name     Distance Mass Radius                      Star_name  \\\n",
       "0             Sun  0.000015813    1      1  SDSS J000013.54+255418.6 [de]   \n",
       "1          Sirius       0008.6  2.1   1.71        2MASS J00040288-6410358   \n",
       "2         Canopus         0310   15     71        2MASS J00242463-0158201   \n",
       "3  Alpha Centauri       0004.4  1.1    1.2        2MASS J00274197+0503417   \n",
       "4        Arcturus         0037  1.1     26         2MASSW J0030300-145033   \n",
       "\n",
       "   Distance.1    Mass.1  Radius.1  \n",
       "0        46.1  0.045820  0.101735  \n",
       "1       192.0  0.018137  0.167504  \n",
       "2        37.7  0.075412  0.112012  \n",
       "3       236.0  0.029592  0.147979  \n",
       "4        87.2  0.051548  0.100708  "
      ]
     },
     "execution_count": 6,
     "metadata": {},
     "output_type": "execute_result"
    }
   ],
   "source": [
    "df=df.dropna()\n",
    "df.head()"
   ]
  },
  {
   "cell_type": "code",
   "execution_count": 7,
   "metadata": {},
   "outputs": [],
   "source": [
    "del df[\"Distance.1\"]\n",
    "del df[\"Mass.1\"]\n",
    "del df[\"Radius.1\"]\n",
    "del df[\"Star_name\"]"
   ]
  },
  {
   "cell_type": "code",
   "execution_count": 8,
   "metadata": {},
   "outputs": [
    {
     "data": {
      "text/html": [
       "<div>\n",
       "<style scoped>\n",
       "    .dataframe tbody tr th:only-of-type {\n",
       "        vertical-align: middle;\n",
       "    }\n",
       "\n",
       "    .dataframe tbody tr th {\n",
       "        vertical-align: top;\n",
       "    }\n",
       "\n",
       "    .dataframe thead th {\n",
       "        text-align: right;\n",
       "    }\n",
       "</style>\n",
       "<table border=\"1\" class=\"dataframe\">\n",
       "  <thead>\n",
       "    <tr style=\"text-align: right;\">\n",
       "      <th></th>\n",
       "      <th>Name</th>\n",
       "      <th>Distance</th>\n",
       "      <th>Mass</th>\n",
       "      <th>Radius</th>\n",
       "    </tr>\n",
       "  </thead>\n",
       "  <tbody>\n",
       "    <tr>\n",
       "      <th>0</th>\n",
       "      <td>Sun</td>\n",
       "      <td>0.000015813</td>\n",
       "      <td>1</td>\n",
       "      <td>1</td>\n",
       "    </tr>\n",
       "    <tr>\n",
       "      <th>1</th>\n",
       "      <td>Sirius</td>\n",
       "      <td>0008.6</td>\n",
       "      <td>2.1</td>\n",
       "      <td>1.71</td>\n",
       "    </tr>\n",
       "    <tr>\n",
       "      <th>2</th>\n",
       "      <td>Canopus</td>\n",
       "      <td>0310</td>\n",
       "      <td>15</td>\n",
       "      <td>71</td>\n",
       "    </tr>\n",
       "    <tr>\n",
       "      <th>3</th>\n",
       "      <td>Alpha Centauri</td>\n",
       "      <td>0004.4</td>\n",
       "      <td>1.1</td>\n",
       "      <td>1.2</td>\n",
       "    </tr>\n",
       "    <tr>\n",
       "      <th>4</th>\n",
       "      <td>Arcturus</td>\n",
       "      <td>0037</td>\n",
       "      <td>1.1</td>\n",
       "      <td>26</td>\n",
       "    </tr>\n",
       "  </tbody>\n",
       "</table>\n",
       "</div>"
      ],
      "text/plain": [
       "             Name     Distance Mass Radius\n",
       "0             Sun  0.000015813    1      1\n",
       "1          Sirius       0008.6  2.1   1.71\n",
       "2         Canopus         0310   15     71\n",
       "3  Alpha Centauri       0004.4  1.1    1.2\n",
       "4        Arcturus         0037  1.1     26"
      ]
     },
     "execution_count": 8,
     "metadata": {},
     "output_type": "execute_result"
    }
   ],
   "source": [
    "df.head()"
   ]
  },
  {
   "cell_type": "code",
   "execution_count": 9,
   "metadata": {},
   "outputs": [],
   "source": [
    "df.to_csv('cleaned_total_stars.csv')"
   ]
  }
 ],
 "metadata": {
  "kernelspec": {
   "display_name": "Python 3",
   "language": "python",
   "name": "python3"
  },
  "language_info": {
   "codemirror_mode": {
    "name": "ipython",
    "version": 3
   },
   "file_extension": ".py",
   "mimetype": "text/x-python",
   "name": "python",
   "nbconvert_exporter": "python",
   "pygments_lexer": "ipython3",
   "version": "3.10.0"
  },
  "orig_nbformat": 4,
  "vscode": {
   "interpreter": {
    "hash": "f73ed9574a1394a35fcd02a9c878d19ab9aaba22225a4e0558c852c190b3e114"
   }
  }
 },
 "nbformat": 4,
 "nbformat_minor": 2
}
